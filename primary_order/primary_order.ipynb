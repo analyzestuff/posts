{
 "cells": [
  {
   "cell_type": "markdown",
   "metadata": {},
   "source": [
    "# Impact of US primary order\n",
    "\n",
    "We use state demographic data from NPR and primary order from Wikipedia to ."
   ]
  },
  {
   "cell_type": "code",
   "execution_count": 1,
   "metadata": {
    "collapsed": true
   },
   "outputs": [],
   "source": [
    "import numpy as np\n",
    "import pandas as pd\n",
    "from StringIO import StringIO\n",
    "import requests"
   ]
  },
  {
   "cell_type": "code",
   "execution_count": 25,
   "metadata": {
    "collapsed": false
   },
   "outputs": [],
   "source": [
    "def fetch_google_sheets_data(key, gid=0):\n",
    "    url = 'https://docs.google.com/spreadsheets/d/' + key + '/export?gid=' + str(gid) + '&format=csv'\n",
    "    return pd.read_csv(url)"
   ]
  },
  {
   "cell_type": "code",
   "execution_count": 36,
   "metadata": {
    "collapsed": false
   },
   "outputs": [],
   "source": [
    "SPREADSHEET_KEY = '15dueDNXIm5q6B7E21Ez7adQgBC91QANMobSu8Uyq4es'\n",
    "raw_states = fetch_google_sheets_data(SPREADSHEET_KEY)\n",
    "raw_primaries = fetch_google_sheets_data(SPREADSHEET_KEY, 213883265)"
   ]
  },
  {
   "cell_type": "code",
   "execution_count": 34,
   "metadata": {
    "collapsed": false
   },
   "outputs": [
    {
     "data": {
      "text/html": [
       "<div>\n",
       "<table border=\"1\" class=\"dataframe\">\n",
       "  <thead>\n",
       "    <tr style=\"text-align: right;\">\n",
       "      <th></th>\n",
       "      <th>PSI RANK</th>\n",
       "      <th>STATE</th>\n",
       "      <th>DIFFERENCE FROM U.S. RACIAL MAKEUP</th>\n",
       "      <th>SHARE WITH BACHELOR'S DEGREE</th>\n",
       "      <th>MEDIAN AGE</th>\n",
       "      <th>MEDIAN HOUSEHOLD INCOME</th>\n",
       "      <th>SHARE WHO CALL RELIGION “VERY IMPORTANT”</th>\n",
       "    </tr>\n",
       "  </thead>\n",
       "  <tbody>\n",
       "    <tr>\n",
       "      <th>0</th>\n",
       "      <td>0</td>\n",
       "      <td>U.S. overall</td>\n",
       "      <td>0.00</td>\n",
       "      <td>0.29</td>\n",
       "      <td>37.7</td>\n",
       "      <td>53,482.00</td>\n",
       "      <td>0.53</td>\n",
       "    </tr>\n",
       "    <tr>\n",
       "      <th>1</th>\n",
       "      <td>1</td>\n",
       "      <td>Illinois</td>\n",
       "      <td>0.04</td>\n",
       "      <td>0.32</td>\n",
       "      <td>37.5</td>\n",
       "      <td>57,166.00</td>\n",
       "      <td>0.50</td>\n",
       "    </tr>\n",
       "    <tr>\n",
       "      <th>2</th>\n",
       "      <td>2</td>\n",
       "      <td>Kansas</td>\n",
       "      <td>0.31</td>\n",
       "      <td>0.31</td>\n",
       "      <td>36.1</td>\n",
       "      <td>51,872.00</td>\n",
       "      <td>0.50</td>\n",
       "    </tr>\n",
       "    <tr>\n",
       "      <th>3</th>\n",
       "      <td>3</td>\n",
       "      <td>Arizona</td>\n",
       "      <td>0.34</td>\n",
       "      <td>0.27</td>\n",
       "      <td>37.1</td>\n",
       "      <td>49,928.00</td>\n",
       "      <td>0.51</td>\n",
       "    </tr>\n",
       "    <tr>\n",
       "      <th>4</th>\n",
       "      <td>4</td>\n",
       "      <td>Pennsylvania</td>\n",
       "      <td>0.32</td>\n",
       "      <td>0.28</td>\n",
       "      <td>40.7</td>\n",
       "      <td>53,115.00</td>\n",
       "      <td>0.51</td>\n",
       "    </tr>\n",
       "  </tbody>\n",
       "</table>\n",
       "</div>"
      ],
      "text/plain": [
       "   PSI RANK         STATE  DIFFERENCE FROM U.S. RACIAL MAKEUP  \\\n",
       "0         0  U.S. overall                                0.00   \n",
       "1         1      Illinois                                0.04   \n",
       "2         2        Kansas                                0.31   \n",
       "3         3       Arizona                                0.34   \n",
       "4         4  Pennsylvania                                0.32   \n",
       "\n",
       "   SHARE WITH BACHELOR'S DEGREE  MEDIAN AGE MEDIAN HOUSEHOLD INCOME  \\\n",
       "0                          0.29        37.7               53,482.00   \n",
       "1                          0.32        37.5               57,166.00   \n",
       "2                          0.31        36.1               51,872.00   \n",
       "3                          0.27        37.1               49,928.00   \n",
       "4                          0.28        40.7               53,115.00   \n",
       "\n",
       "   SHARE WHO CALL RELIGION “VERY IMPORTANT”  \n",
       "0                                      0.53  \n",
       "1                                      0.50  \n",
       "2                                      0.50  \n",
       "3                                      0.51  \n",
       "4                                      0.51  "
      ]
     },
     "execution_count": 34,
     "metadata": {},
     "output_type": "execute_result"
    }
   ],
   "source": [
    "raw_states.head(5)"
   ]
  },
  {
   "cell_type": "code",
   "execution_count": 37,
   "metadata": {
    "collapsed": false
   },
   "outputs": [
    {
     "data": {
      "text/html": [
       "<div>\n",
       "<table border=\"1\" class=\"dataframe\">\n",
       "  <thead>\n",
       "    <tr style=\"text-align: right;\">\n",
       "      <th></th>\n",
       "      <th>Date[95][96]</th>\n",
       "      <th>state</th>\n",
       "      <th>Election Type[97]</th>\n",
       "      <th>Open or\n",
       "Closed[92][a]</th>\n",
       "      <th>Winner</th>\n",
       "      <th>Pledged/\n",
       "Unpledged/\n",
       "Total\n",
       "Delegates[98][b]</th>\n",
       "      <th>Delegate\n",
       "breakdown</th>\n",
       "      <th>Allocation\n",
       "method</th>\n",
       "      <th>Inclusion threshold</th>\n",
       "      <th>date</th>\n",
       "    </tr>\n",
       "  </thead>\n",
       "  <tbody>\n",
       "    <tr>\n",
       "      <th>0</th>\n",
       "      <td>2/1/2016</td>\n",
       "      <td>Iowa</td>\n",
       "      <td>Caucuses</td>\n",
       "      <td>Closed</td>\n",
       "      <td>Ted Cruz</td>\n",
       "      <td>30 / 0 / 30</td>\n",
       "      <td>12 district\\n15 at-large\\n3 RNC</td>\n",
       "      <td>Proportional\\n(based on statewide vote)</td>\n",
       "      <td>none</td>\n",
       "      <td>2016-02-01</td>\n",
       "    </tr>\n",
       "    <tr>\n",
       "      <th>1</th>\n",
       "      <td>2/9/2016</td>\n",
       "      <td>New Hampshire</td>\n",
       "      <td>Primary</td>\n",
       "      <td>Mixed</td>\n",
       "      <td>NaN</td>\n",
       "      <td>20 / 3 / 23</td>\n",
       "      <td>6 district\\n14 at-large\\n3 RNC</td>\n",
       "      <td>Proportional\\n(based on statewide vote)</td>\n",
       "      <td>10%</td>\n",
       "      <td>2016-02-09</td>\n",
       "    </tr>\n",
       "    <tr>\n",
       "      <th>2</th>\n",
       "      <td>2/20/2016</td>\n",
       "      <td>South Carolina</td>\n",
       "      <td>Primary</td>\n",
       "      <td>Open</td>\n",
       "      <td>NaN</td>\n",
       "      <td>47 / 3 / 50</td>\n",
       "      <td>21 district\\n26 at-large\\n3 RNC</td>\n",
       "      <td>Winner-take-all</td>\n",
       "      <td>NaN</td>\n",
       "      <td>2016-02-20</td>\n",
       "    </tr>\n",
       "    <tr>\n",
       "      <th>3</th>\n",
       "      <td>NaN</td>\n",
       "      <td>Washington</td>\n",
       "      <td>Caucuses</td>\n",
       "      <td>Closed</td>\n",
       "      <td>NaN</td>\n",
       "      <td>No Delegates</td>\n",
       "      <td>NaN</td>\n",
       "      <td>Presidential preferences only. All Convention ...</td>\n",
       "      <td>NaN</td>\n",
       "      <td>2016-02-20</td>\n",
       "    </tr>\n",
       "    <tr>\n",
       "      <th>4</th>\n",
       "      <td>2/23/2016</td>\n",
       "      <td>Nevada</td>\n",
       "      <td>Caucuses</td>\n",
       "      <td>Closed</td>\n",
       "      <td>NaN</td>\n",
       "      <td>27 / 3 / 30</td>\n",
       "      <td>12 district\\n15 at-large\\n3 RNC</td>\n",
       "      <td>Proportional\\n(based on statewide vote)</td>\n",
       "      <td>none</td>\n",
       "      <td>2016-02-23</td>\n",
       "    </tr>\n",
       "  </tbody>\n",
       "</table>\n",
       "</div>"
      ],
      "text/plain": [
       "  Date[95][96]           state Election Type[97] Open or\\nClosed[92][a]  \\\n",
       "0     2/1/2016            Iowa          Caucuses                 Closed   \n",
       "1     2/9/2016   New Hampshire           Primary                  Mixed   \n",
       "2    2/20/2016  South Carolina           Primary                   Open   \n",
       "3          NaN      Washington          Caucuses                 Closed   \n",
       "4    2/23/2016          Nevada          Caucuses                 Closed   \n",
       "\n",
       "     Winner Pledged/\\nUnpledged/\\nTotal\\nDelegates[98][b]  \\\n",
       "0  Ted Cruz                                   30 / 0 / 30   \n",
       "1       NaN                                   20 / 3 / 23   \n",
       "2       NaN                                   47 / 3 / 50   \n",
       "3       NaN                                  No Delegates   \n",
       "4       NaN                                   27 / 3 / 30   \n",
       "\n",
       "               Delegate\\nbreakdown  \\\n",
       "0  12 district\\n15 at-large\\n3 RNC   \n",
       "1   6 district\\n14 at-large\\n3 RNC   \n",
       "2  21 district\\n26 at-large\\n3 RNC   \n",
       "3                              NaN   \n",
       "4  12 district\\n15 at-large\\n3 RNC   \n",
       "\n",
       "                                  Allocation\\nmethod Inclusion threshold  \\\n",
       "0            Proportional\\n(based on statewide vote)                none   \n",
       "1            Proportional\\n(based on statewide vote)                 10%   \n",
       "2                                    Winner-take-all                 NaN   \n",
       "3  Presidential preferences only. All Convention ...                 NaN   \n",
       "4            Proportional\\n(based on statewide vote)                none   \n",
       "\n",
       "         date  \n",
       "0  2016-02-01  \n",
       "1  2016-02-09  \n",
       "2  2016-02-20  \n",
       "3  2016-02-20  \n",
       "4  2016-02-23  "
      ]
     },
     "execution_count": 37,
     "metadata": {},
     "output_type": "execute_result"
    }
   ],
   "source": [
    "raw_primaries.head()"
   ]
  },
  {
   "cell_type": "code",
   "execution_count": null,
   "metadata": {
    "collapsed": true
   },
   "outputs": [],
   "source": []
  },
  {
   "cell_type": "markdown",
   "metadata": {},
   "source": []
  }
 ],
 "metadata": {
  "kernelspec": {
   "display_name": "Python 2",
   "language": "python",
   "name": "python2"
  },
  "language_info": {
   "codemirror_mode": {
    "name": "ipython",
    "version": 2
   },
   "file_extension": ".py",
   "mimetype": "text/x-python",
   "name": "python",
   "nbconvert_exporter": "python",
   "pygments_lexer": "ipython2",
   "version": "2.7.9"
  }
 },
 "nbformat": 4,
 "nbformat_minor": 0
}
